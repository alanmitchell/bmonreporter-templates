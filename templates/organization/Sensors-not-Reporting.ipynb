{
 "cells": [
  {
   "cell_type": "markdown",
   "metadata": {},
   "source": [
    "# List of Sensors not Reporting\n",
    "These sensors did not report in the 4 hours prior to when this report was run."
   ]
  },
  {
   "cell_type": "code",
   "execution_count": null,
   "metadata": {},
   "outputs": [],
   "source": [
    "# Import any necessary Python packages\n",
    "from datetime import datetime, timedelta\n",
    "import pandas as pd\n",
    "from IPython.display import Markdown\n",
    "import bmondata\n",
    "import scrapbook as sb"
   ]
  },
  {
   "cell_type": "code",
   "execution_count": null,
   "metadata": {
    "tags": [
     "parameters"
    ]
   },
   "outputs": [],
   "source": [
    "# Parameters that will be changed by the bmonreporter report-creating script.\n",
    "# This cell must have a \"parameters\" tag.\n",
    "server_web_address = 'https://bmon.analysisnorth.com'\n",
    "org_id = 1"
   ]
  },
  {
   "cell_type": "code",
   "execution_count": null,
   "metadata": {},
   "outputs": [],
   "source": [
    "# The report generator script needs to the know the Title of this report and where\n",
    "# to sort it with respect to other reports.  Glue that information to this notebook.\n",
    "sb.glue('title', 'Non-reporting Sensors')\n",
    "sb.glue('sort_order', 90)\n",
    "\n",
    "####################################################################################\n",
    "\n",
    "# This code creates the list of sensors that are not reporting. Each non-reporting\n",
    "# sensor is listed as a bullet item underneath the associated Building Name.\n",
    "# Markdown is used to create the formatted text.\n",
    "server = bmondata.Server(server_web_address)\n",
    "result = ''\n",
    "\n",
    "# Even though there is only one Organization ID set in the \"parameters\" cell above\n",
    "# the server.organizations() method returns a list of organizations; thus you use a\n",
    "# for loop to process the item(s) in the returned list. Ususally, this\n",
    "# will be a list of one organization (e.g. if the ID is set to 1 by the report\n",
    "# creator, the returned list will just have one dictionary describing the organization\n",
    "# with the ID = 1).  However, the report creator also does one report where it passes\n",
    "# in the special Organization ID of 0, causing server.organizations() to return\n",
    "# a list of \"All Organizations\", one dictionary for each organization.  This report\n",
    "# will do an analysis of the buildings from all organizations on the BMON server.\n",
    "for org_info in server.organizations(org_id):\n",
    "    for bldg_id, bldg_name in org_info['buildings']:\n",
    "        result += f'\\n\\n### {bldg_name}'\n",
    "        bldg_info = server.buildings(bldg_id)[0]\n",
    "        for sensor_info in bldg_info['sensors']:\n",
    "            s_id = sensor_info['sensor_id']\n",
    "            tstart = str(datetime.utcnow() - timedelta(hours=4))\n",
    "            try:\n",
    "                reading_count = len(server.sensor_readings(s_id, start_ts=tstart, timezone='UTC'))\n",
    "            except:\n",
    "                reading_count = 0\n",
    "            if reading_count==0:\n",
    "                # Look up sensor title and add a bullet describing sensor\n",
    "                try:\n",
    "                    detailed_info = server.sensors(s_id)[0]\n",
    "                    title = detailed_info['title']\n",
    "                except:\n",
    "                    title = \"Unknown title\"\n",
    "                result += f\"\\n* {title} ({s_id})\"\n",
    "Markdown(result)"
   ]
  }
 ],
 "metadata": {
  "celltoolbar": "Tags",
  "kernelspec": {
   "display_name": "Python 3",
   "language": "python",
   "name": "python3"
  },
  "language_info": {
   "codemirror_mode": {
    "name": "ipython",
    "version": 3
   },
   "file_extension": ".py",
   "mimetype": "text/x-python",
   "name": "python",
   "nbconvert_exporter": "python",
   "pygments_lexer": "ipython3",
   "version": "3.8.5"
  }
 },
 "nbformat": 4,
 "nbformat_minor": 4
}
