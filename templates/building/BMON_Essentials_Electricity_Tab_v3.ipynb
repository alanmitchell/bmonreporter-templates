{
 "cells": [
  {
   "cell_type": "code",
   "execution_count": 2,
   "metadata": {},
   "outputs": [
    {
     "ename": "ModuleNotFoundError",
     "evalue": "No module named 'plotly'",
     "output_type": "error",
     "traceback": [
      "\u001b[1;31m---------------------------------------------------------------------------\u001b[0m",
      "\u001b[1;31mModuleNotFoundError\u001b[0m                       Traceback (most recent call last)",
      "\u001b[1;32m<ipython-input-2-b8bc73910044>\u001b[0m in \u001b[0;36m<module>\u001b[1;34m\u001b[0m\n\u001b[0;32m      5\u001b[0m \u001b[1;32mimport\u001b[0m \u001b[0mdatetime\u001b[0m\u001b[1;33m\u001b[0m\u001b[1;33m\u001b[0m\u001b[0m\n\u001b[0;32m      6\u001b[0m \u001b[1;32mimport\u001b[0m \u001b[0mwarnings\u001b[0m\u001b[1;33m;\u001b[0m \u001b[0mwarnings\u001b[0m\u001b[1;33m.\u001b[0m\u001b[0msimplefilter\u001b[0m\u001b[1;33m(\u001b[0m\u001b[1;34m'ignore'\u001b[0m\u001b[1;33m)\u001b[0m\u001b[1;33m\u001b[0m\u001b[1;33m\u001b[0m\u001b[0m\n\u001b[1;32m----> 7\u001b[1;33m \u001b[1;32mimport\u001b[0m \u001b[0mplotly\u001b[0m\u001b[1;33m.\u001b[0m\u001b[0mgraph_objects\u001b[0m \u001b[1;32mas\u001b[0m \u001b[0mgo\u001b[0m\u001b[1;33m\u001b[0m\u001b[1;33m\u001b[0m\u001b[0m\n\u001b[0m\u001b[0;32m      8\u001b[0m \u001b[1;32mfrom\u001b[0m \u001b[0mIPython\u001b[0m\u001b[1;33m.\u001b[0m\u001b[0mdisplay\u001b[0m \u001b[1;32mimport\u001b[0m \u001b[0mdisplay\u001b[0m\u001b[1;33m,\u001b[0m \u001b[0mMarkdown\u001b[0m\u001b[1;33m,\u001b[0m \u001b[0mImage\u001b[0m\u001b[1;33m,\u001b[0m \u001b[0mSVG\u001b[0m\u001b[1;33m\u001b[0m\u001b[1;33m\u001b[0m\u001b[0m\n\u001b[0;32m      9\u001b[0m \u001b[1;32mimport\u001b[0m \u001b[0mre\u001b[0m\u001b[1;33m\u001b[0m\u001b[1;33m\u001b[0m\u001b[0m\n",
      "\u001b[1;31mModuleNotFoundError\u001b[0m: No module named 'plotly'"
     ]
    }
   ],
   "source": [
    "import requests\n",
    "import pandas as pd\n",
    "import numpy as np\n",
    "import nbconvert\n",
    "import datetime\n",
    "import warnings; warnings.simplefilter('ignore')\n",
    "import plotly.graph_objects as go\n",
    "from IPython.display import display, Markdown, Image, SVG\n",
    "import re\n",
    "import bmondata\n",
    "from bmondata import Server\n",
    "from dateutil.relativedelta import relativedelta\n",
    "import scrapbook as sb\n",
    "\n"
   ]
  },
  {
   "cell_type": "code",
   "execution_count": null,
   "metadata": {
    "tags": [
     "parameters"
    ]
   },
   "outputs": [],
   "source": [
    "# Papermill variables to change to look at different buildings / organizations \n",
    "building_id = 2\n",
    "server_web_address = 'https://bms.ahfc.us'"
   ]
  },
  {
   "cell_type": "code",
   "execution_count": null,
   "metadata": {},
   "outputs": [],
   "source": [
    "# 'Glue' down variables for scrapbook to export later\n",
    "sb.glue('sort_order', 1)\n",
    "sb.glue('title', 'Electric Use')\n",
    "\n",
    "server = Server(server_web_address)\n",
    "building_df = server.buildings(building_id)\n",
    "current_building_name = building_df[0]['title']\n",
    "electric_id = building_df[0]['electric_ids']\n",
    "current_building_type = building_df[0]['building_type']\n",
    "\n",
    "if len(electric_id) == 0:\n",
    "    error_message = 'This building does not appear to have any electric data. Either there is no data source or it has not been properly configured.'\n",
    "    raise RuntimeError(error_message)\n",
    "\n",
    "all_buildings = server.buildings()\n",
    "org_df = pd.DataFrame(all_buildings)\n",
    "\n",
    "title_md = '''# Electricity Consumption for {} building'''\n",
    "title_md = title_md.format(current_building_name)"
   ]
  },
  {
   "cell_type": "code",
   "execution_count": null,
   "metadata": {},
   "outputs": [],
   "source": [
    "Markdown(title_md)"
   ]
  },
  {
   "cell_type": "code",
   "execution_count": null,
   "metadata": {},
   "outputs": [],
   "source": [
    "fifteen_min_averages = server.sensor_readings((electric_id, 'electric_usage'),\n",
    "                                          start_ts = datetime.datetime.now() - relativedelta(years=3),\n",
    "                                            end_ts = datetime.datetime.now(),\n",
    "                                          averaging = '15min')\n",
    "\n",
    "# Get rid of any potential erroneous data that is listed as a negative electric usage\n",
    "fifteen_min_averages = fifteen_min_averages.query(\"electric_usage >= 0\")\n",
    "\n",
    "fifteen_min_averages = fifteen_min_averages.reset_index()\n",
    "\n",
    "fifteen_min_averages = fifteen_min_averages.rename(columns={'index':'datetime_col'})\n",
    "\n",
    "fifteen_min_averages['dayofweek'] = fifteen_min_averages.datetime_col.apply(lambda x: x.dayofweek)\n",
    "\n",
    "fifteen_min_averages['date'] = fifteen_min_averages.datetime_col.apply(lambda x: x.date())\n",
    "\n",
    "fifteen_min_averages['time'] = fifteen_min_averages.datetime_col.apply(lambda x: x.time())"
   ]
  },
  {
   "cell_type": "code",
   "execution_count": null,
   "metadata": {},
   "outputs": [],
   "source": [
    "current_week_start = fifteen_min_averages.date.iloc[-1] - pd.offsets.Day(7)"
   ]
  },
  {
   "cell_type": "code",
   "execution_count": null,
   "metadata": {},
   "outputs": [],
   "source": [
    "# Create dataframes for each of the last three weeks for graphing comparison purposes.\n",
    "last_week_start = current_week_start - pd.offsets.Day(7)\n",
    "last_week_df = fifteen_min_averages.query(\"datetime_col >= @last_week_start\")\n",
    "last_week_df = last_week_df.query(\"datetime_col < @current_week_start\")\n",
    "\n",
    "two_weeks_ago_start = last_week_start - pd.offsets.Day(7)\n",
    "two_weeks_ago_df = fifteen_min_averages.query(\"datetime_col >= @two_weeks_ago_start\")\n",
    "two_weeks_ago_df = two_weeks_ago_df.query(\"datetime_col < @last_week_start\")\n",
    "\n",
    "three_weeks_ago_start = two_weeks_ago_start - pd.offsets.Day(7)\n",
    "three_weeks_ago_df = fifteen_min_averages.query(\"datetime_col >= @three_weeks_ago_start\")\n",
    "three_weeks_ago_df = three_weeks_ago_df.query(\"datetime_col < @two_weeks_ago_start\")"
   ]
  },
  {
   "cell_type": "code",
   "execution_count": null,
   "metadata": {},
   "outputs": [],
   "source": [
    "# Adjust the datetime column so the visualization will have the electricity data overlaying the current week.\n",
    "last_week_df['adjusted_datetime_col'] = last_week_df.datetime_col.apply(lambda x: x + pd.offsets.Day(7))\n",
    "two_weeks_ago_df['adjusted_datetime_col'] = two_weeks_ago_df.datetime_col.apply(lambda x: x + pd.offsets.Day(14))\n",
    "three_weeks_ago_df['adjusted_datetime_col'] = three_weeks_ago_df.datetime_col.apply(lambda x: x + pd.offsets.Day(21))"
   ]
  },
  {
   "cell_type": "code",
   "execution_count": null,
   "metadata": {},
   "outputs": [],
   "source": [
    "current_week = fifteen_min_averages.query(\"datetime_col >= @current_week_start\")"
   ]
  },
  {
   "cell_type": "code",
   "execution_count": null,
   "metadata": {},
   "outputs": [],
   "source": [
    "historical_complete = fifteen_min_averages.query(\"datetime_col < @current_week_start\")"
   ]
  },
  {
   "cell_type": "code",
   "execution_count": null,
   "metadata": {},
   "outputs": [],
   "source": [
    "day_avgs = historical_complete.groupby(['dayofweek', 'time']).mean()\n",
    "day_avgs = day_avgs.reset_index()"
   ]
  },
  {
   "cell_type": "code",
   "execution_count": null,
   "metadata": {},
   "outputs": [],
   "source": [
    "current_week_w_day_avgs = pd.merge(current_week, day_avgs, how='left',\n",
    "                                  left_on=['dayofweek', 'time'],\n",
    "                                  right_on=['dayofweek', 'time'], \n",
    "                                  suffixes=('', '_historical_avg'))"
   ]
  },
  {
   "cell_type": "code",
   "execution_count": null,
   "metadata": {},
   "outputs": [],
   "source": [
    "current_week_w_day_avgs['current_use_vs_historical_difference'] = current_week_w_day_avgs.electric_usage - current_week_w_day_avgs.electric_usage_historical_avg"
   ]
  },
  {
   "cell_type": "code",
   "execution_count": null,
   "metadata": {},
   "outputs": [],
   "source": [
    "# Define anomalous range as three standard deviations above the mean\n",
    "three_std = current_week_w_day_avgs.current_use_vs_historical_difference.mean() + current_week_w_day_avgs.current_use_vs_historical_difference.std() * 3"
   ]
  },
  {
   "cell_type": "code",
   "execution_count": null,
   "metadata": {},
   "outputs": [],
   "source": [
    "# This works, but the graph looks odd unless we get one data point on either side to connect them\n",
    "current_week_w_day_avgs['electric_use_anomalies'] = np.where(current_week_w_day_avgs.current_use_vs_historical_difference > three_std,\n",
    "                                                            current_week_w_day_avgs.electric_usage,\n",
    "                                                            np.nan)"
   ]
  },
  {
   "cell_type": "code",
   "execution_count": null,
   "metadata": {},
   "outputs": [],
   "source": [
    "anomaly_df = current_week_w_day_avgs.query(\"electric_use_anomalies == electric_use_anomalies\")"
   ]
  },
  {
   "cell_type": "code",
   "execution_count": null,
   "metadata": {},
   "outputs": [],
   "source": [
    "diff_series = np.diff(anomaly_df.index, n=1)"
   ]
  },
  {
   "cell_type": "code",
   "execution_count": null,
   "metadata": {},
   "outputs": [],
   "source": [
    "diff_series = np.insert(diff_series, 0, 0)\n",
    "anomaly_df['diff_series'] = diff_series"
   ]
  },
  {
   "cell_type": "code",
   "execution_count": null,
   "metadata": {},
   "outputs": [],
   "source": [
    "# This keeps track of the number of groups of distinct anomalous periods in the data\n",
    "group_counter = 0\n",
    "\n",
    "# This padding is a cut-off used to group together time series indices that are close \n",
    "# enough to still be considered a group (e.g. there might be an anomaly at one time,\n",
    "# followed by another anomalous reading 45 minutes later, which should probably all just\n",
    "# be considered the same group)\n",
    "index_padding = 4\n",
    "\n",
    "for idx, row in anomaly_df.iterrows():\n",
    "    if row['diff_series'] <= index_padding:\n",
    "        anomaly_df.at[idx, 'group_number'] = group_counter\n",
    "    else:\n",
    "        group_counter += 1\n",
    "        anomaly_df.at[idx, 'group_number'] = group_counter"
   ]
  },
  {
   "cell_type": "code",
   "execution_count": null,
   "metadata": {},
   "outputs": [],
   "source": [
    "anomaly_max = anomaly_df.groupby(['group_number']).max()[['datetime_col', 'electric_usage']]\n",
    "anomaly_min = anomaly_df.groupby(['group_number']).min()[['datetime_col', 'electric_usage']]"
   ]
  },
  {
   "cell_type": "code",
   "execution_count": null,
   "metadata": {},
   "outputs": [],
   "source": [
    "anomaly_groups = pd.merge(anomaly_max, anomaly_min, how='outer',\n",
    "                         left_index=True, right_index=True, \n",
    "                         suffixes=('_max', '_min'))"
   ]
  },
  {
   "cell_type": "code",
   "execution_count": null,
   "metadata": {},
   "outputs": [],
   "source": [
    "if anomaly_groups.datetime_col_min.isna().all():\n",
    "    anomaly_rectangles = []\n",
    "    image_list = []\n",
    "else:\n",
    "    anomaly_rectangles = []\n",
    "    image_list = []\n",
    "    for idx, row in anomaly_groups.iterrows():\n",
    "        \n",
    "        anomaly_start = row['datetime_col_min']\n",
    "        anomaly_end = row['datetime_col_max']\n",
    "        anomaly_midpoint = ((anomaly_end - anomaly_start) / 2) + anomaly_start\n",
    "        \n",
    "        anomaly_rectangles.append({'type':'rect',\n",
    "                            'xref':'x',\n",
    "                            'yref':'paper',\n",
    "                            'x0':anomaly_start,\n",
    "                            'y0':0,\n",
    "                            'x1':anomaly_end,\n",
    "                            'y1':1,\n",
    "                            'fillcolor':('rgb(205, 12, 24)'),\n",
    "                            'opacity':0.5,\n",
    "                            'line': {\n",
    "                                'width':1,\n",
    "                            }\n",
    "                            })\n",
    "        \n",
    "        image_list.append({'source': 'https://github.com/dustin-cchrc/cchrc_python_for_non_programmers/blob/master/energy_savings_icon.png',\n",
    "                'xref': \"paper\",\n",
    "                'yref': \"paper\",\n",
    "                'x': 1.0, #anomaly_midpoint ,\n",
    "                'y': 0.9,\n",
    "                'sizex': 0.2,\n",
    "                'sizey': 0.2,\n",
    "                'xanchor': \"right\",\n",
    "                'yanchor': \"bottom\"})"
   ]
  },
  {
   "cell_type": "code",
   "execution_count": null,
   "metadata": {},
   "outputs": [],
   "source": [
    "this_week = go.Scatter(x = current_week_w_day_avgs.datetime_col,\n",
    "                   y = current_week_w_day_avgs.electric_usage,\n",
    "                   line = dict(color = '#ca0020'),\n",
    "                   name='Current week electricity consumption')\n",
    "\n",
    "last_week = go.Scatter(x = last_week_df.adjusted_datetime_col,\n",
    "                      y = last_week_df.electric_usage,\n",
    "                       line = dict(dash = 'dashdot',\n",
    "                                   color = '#3182bd'),\n",
    "                       name = \"Electricity consumption last week\")\n",
    "\n",
    "two_weeks_ago = go.Scatter(x = two_weeks_ago_df.adjusted_datetime_col,\n",
    "                          y = two_weeks_ago_df.electric_usage,\n",
    "                           line = dict(dash = 'dashdot',\n",
    "                                       color = '#6baed6'),\n",
    "                           name = \"Electricity consumption 2 weeks ago\")\n",
    "\n",
    "three_weeks_ago = go.Scatter(x = three_weeks_ago_df.adjusted_datetime_col,\n",
    "                            y = three_weeks_ago_df.electric_usage,\n",
    "                             line = dict(dash = 'dashdot',\n",
    "                                         color = '#bdd7e7'),\n",
    "                            name = \"Electricity consumption 3 weeks ago\")\n",
    "    \n",
    "layout = dict(title = 'Electricity Consumption: Current vs. Recent Weeks',\n",
    "              xaxis = dict(title='Date and Time'),\n",
    "              yaxis = dict(title='Electricity Consumption (kW, 15 minute average)')\n",
    "             )\n",
    "\n",
    "data = [this_week, last_week, two_weeks_ago, three_weeks_ago]\n",
    "\n",
    "fig = go.Figure(dict(data=data, layout=layout))\n",
    "\n",
    "fig.show()"
   ]
  },
  {
   "cell_type": "code",
   "execution_count": null,
   "metadata": {},
   "outputs": [],
   "source": [
    "this_week = go.Scatter(x = current_week_w_day_avgs.datetime_col,\n",
    "                   y = current_week_w_day_avgs.electric_usage,\n",
    "                   line = dict(color = ('rgb(22, 96, 167)')),\n",
    "                   name='Current Week Electricity Consumption')\n",
    "\n",
    "historical_avg = go.Scatter(x = current_week_w_day_avgs.datetime_col,\n",
    "                   y = current_week_w_day_avgs.electric_usage_historical_avg,\n",
    "                   line = dict(dash = 'dashdot',\n",
    "                              color = ('rgb(22, 96, 167)')),\n",
    "                            opacity = 0.6,\n",
    "                   name='Historical Average Electricity Consumption')\n",
    "    \n",
    "layout = dict(title = 'Current Electricity Consumption vs. Historical Average',\n",
    "              xaxis = dict(title='Date and Time'),\n",
    "              yaxis = dict(title='Electricity Consumption (kW, 15 minute average)'),\n",
    "              images = image_list,\n",
    "              shapes = anomaly_rectangles\n",
    "             )\n",
    "\n",
    "data = [this_week, historical_avg]\n",
    "\n",
    "fig = go.Figure(dict(data=data, layout=layout))\n",
    "\n",
    "fig.show()"
   ]
  },
  {
   "cell_type": "code",
   "execution_count": null,
   "metadata": {},
   "outputs": [],
   "source": [
    "if anomaly_groups.datetime_col_min.isna().all():\n",
    "    md_results = '''#### <font color='green'>There were no periods of extreme electricity consumption this week-- keep up the good work!</font>'''\n",
    "else:\n",
    "     md_results = '''#### <font color='red'>The periods highlighted in red signify much higher electricity consumption than normal; try to identify what happened and how to prevent it in the future.</font>'''\n",
    "\n",
    "Markdown(md_results)"
   ]
  },
  {
   "cell_type": "markdown",
   "metadata": {},
   "source": [
    "# Unoccupied electricity usage"
   ]
  },
  {
   "cell_type": "code",
   "execution_count": null,
   "metadata": {},
   "outputs": [],
   "source": [
    "# Get schedule and timezone from the API data\n",
    "building_schedule = building_df[0]['schedule']\n",
    "building_timezone = building_df[0]['timezone']\n",
    "\n",
    "# Create a schedule object using Ian's library\n",
    "schedule_object = bmondata.Schedule(building_schedule, building_timezone)\n",
    "\n",
    "if building_schedule == '' or schedule_object is None:\n",
    "    md_results_2 = '''#### <font color='red'>There is no occcupied schedule entered for this building.</font>'''\n",
    "else:\n",
    "    # Set the start and end times of the graph\n",
    "    graph_start_date = datetime.datetime.now() - relativedelta(weeks=1)\n",
    "    graph_end_date = datetime.datetime.now()\n",
    "\n",
    "    # Use the schedule object to create a list of tuples with the occupied start and end times falling within the graph range\n",
    "    list_of_occupied_timestamps = schedule_object.occupied_periods(datetime.datetime.timestamp(graph_start_date), datetime.datetime.timestamp(graph_end_date))\n",
    "\n",
    "    # Loop through the list of occupied timestamps and convert them to datetimes\n",
    "    start_time_list = []\n",
    "    end_time_list = []\n",
    "\n",
    "    for i in np.arange(0, len(list_of_occupied_timestamps)):\n",
    "        start_datetime = datetime.datetime.fromtimestamp(list_of_occupied_timestamps[i][0])\n",
    "        start_time_list.append(start_datetime)\n",
    "        end_datetime = datetime.datetime.fromtimestamp(list_of_occupied_timestamps[i][1])\n",
    "        end_time_list.append(end_datetime)\n",
    "\n",
    "    # Create variables to indicate the first occupied start time and the last occupied end time\n",
    "    occ_start = start_time_list[0]\n",
    "    occ_end = end_time_list[-1]\n",
    "    occ_day_list = np.arange(occ_start.weekday(), occ_end.weekday()+1)\n",
    "    \n",
    "    min_value = current_week_w_day_avgs.electric_usage.min()\n",
    "    max_value = current_week_w_day_avgs.electric_usage.max()\n",
    "    \n",
    "    shape_list = []\n",
    "    shape_dict = {'type':'rect',\n",
    "                  'fillcolor':'#bdbdbd',\n",
    "                  'opacity':0.35,\n",
    "                  'line': {'width':1},\n",
    "                  'layer':'below',\n",
    "                  'y0':0,\n",
    "                  'y1':max_value\n",
    "                 }\n",
    "\n",
    "    if graph_start_date < start_time_list[0]:\n",
    "        shape_dict.update(x0=graph_start_date)\n",
    "        shape_dict.update(x1=start_time_list[0])\n",
    "        shape_list.append(shape_dict.copy())\n",
    "\n",
    "    for i in np.arange(len(start_time_list)):\n",
    "        if start_time_list[-1] != start_time_list[i]:\n",
    "            shape_dict.update(x0=end_time_list[i])\n",
    "            shape_dict.update(x1=start_time_list[i+1])\n",
    "            shape_list.append(shape_dict.copy())\n",
    "\n",
    "    if graph_end_date > end_time_list[-1]:\n",
    "        shape_dict.update(x0=end_time_list[-1])\n",
    "        shape_dict.update(x1=graph_end_date)\n",
    "        shape_list.append(shape_dict.copy())\n",
    "        \n",
    "    electricity_usage = go.Scatter(x=current_week_w_day_avgs.datetime_col,\n",
    "                             y=current_week_w_day_avgs.electric_usage,\n",
    "                             name=\"Electricity Consumption\")\n",
    "    \n",
    "    layout = dict(title='Current Week Electricity Consumption',\n",
    "                  xaxis=dict(title='Date and Time'),\n",
    "                  yaxis=dict(title='Electricity Consumption (kW, 15 min. avg))'),\n",
    "                  shapes = shape_list\n",
    "                 )\n",
    "\n",
    "\n",
    "    fig = go.Figure(dict(data=[electricity_usage], layout=layout))\n",
    "    \n",
    "    md_results_2 = ''\n",
    "    \n",
    "    fig.show()"
   ]
  },
  {
   "cell_type": "code",
   "execution_count": null,
   "metadata": {},
   "outputs": [],
   "source": [
    "Markdown(md_results_2)"
   ]
  },
  {
   "cell_type": "markdown",
   "metadata": {},
   "source": [
    "###  Grey areas indicate that the building is unoccupied; if electricity consumption does not decrease significantly during these periods, check to see if:\n",
    " - Lighting is being left on at night\n",
    " - Ventilation fans are running at night\n",
    " - Other unnecessary equipment is being left on"
   ]
  },
  {
   "cell_type": "markdown",
   "metadata": {},
   "source": [
    "## Ratio of night-time to daytime electricity usage"
   ]
  },
  {
   "cell_type": "code",
   "execution_count": null,
   "metadata": {},
   "outputs": [],
   "source": [
    "today = datetime.date.today()\n",
    "last_monday = today - datetime.timedelta(days=today.weekday())"
   ]
  },
  {
   "cell_type": "code",
   "execution_count": null,
   "metadata": {},
   "outputs": [],
   "source": [
    "five_mondays_ago = last_monday - relativedelta(days=28)\n",
    "five_mondays = fifteen_min_averages.query(\"datetime_col >= @five_mondays_ago\")"
   ]
  },
  {
   "cell_type": "code",
   "execution_count": null,
   "metadata": {},
   "outputs": [],
   "source": [
    "five_mondays['days_ago'] = five_mondays.date.apply(lambda x: (last_monday - x).days)"
   ]
  },
  {
   "cell_type": "code",
   "execution_count": null,
   "metadata": {},
   "outputs": [],
   "source": [
    "five_mondays['weeks_ago'] = np.ceil(five_mondays.days_ago / 7)"
   ]
  },
  {
   "cell_type": "code",
   "execution_count": null,
   "metadata": {},
   "outputs": [],
   "source": [
    "five_mondays['timestamp'] = five_mondays.datetime_col.apply(lambda x: datetime.datetime.timestamp(x))"
   ]
  },
  {
   "cell_type": "code",
   "execution_count": null,
   "metadata": {},
   "outputs": [],
   "source": [
    "if schedule_object is None:\n",
    "    five_mondays['occupied'] = 1\n",
    "else: \n",
    "    five_mondays['occupied'] = five_mondays.timestamp.apply(lambda x: schedule_object.is_occupied(x, resolution='exact'))"
   ]
  },
  {
   "cell_type": "code",
   "execution_count": null,
   "metadata": {},
   "outputs": [],
   "source": [
    "five_mondays['weekday'] = five_mondays.datetime_col.apply(lambda x: x.weekday())"
   ]
  },
  {
   "cell_type": "code",
   "execution_count": null,
   "metadata": {},
   "outputs": [],
   "source": [
    "recent_weekdays = five_mondays.query(\"weekday < 5\")"
   ]
  },
  {
   "cell_type": "code",
   "execution_count": null,
   "metadata": {},
   "outputs": [],
   "source": [
    "recent_occupied_weekdays = recent_weekdays.query(\"occupied == True\")"
   ]
  },
  {
   "cell_type": "code",
   "execution_count": null,
   "metadata": {},
   "outputs": [],
   "source": [
    "recent_unoccupied_weeekdays = recent_weekdays.query(\"occupied == False\")"
   ]
  },
  {
   "cell_type": "code",
   "execution_count": null,
   "metadata": {},
   "outputs": [],
   "source": [
    "grouped_occupied = recent_occupied_weekdays.groupby(['weeks_ago']).mean()[['electric_usage']]"
   ]
  },
  {
   "cell_type": "code",
   "execution_count": null,
   "metadata": {},
   "outputs": [],
   "source": [
    "grouped_unoccupied = recent_unoccupied_weeekdays.groupby(['weeks_ago']).mean()[['electric_usage']]"
   ]
  },
  {
   "cell_type": "code",
   "execution_count": null,
   "metadata": {},
   "outputs": [],
   "source": [
    "mean_ratios = pd.merge(grouped_occupied, grouped_unoccupied, how='outer',\n",
    "                       left_index=True, right_index=True, suffixes=['_occupied', '_unoccupied'])"
   ]
  },
  {
   "cell_type": "code",
   "execution_count": null,
   "metadata": {},
   "outputs": [],
   "source": [
    "week_start_dates = recent_weekdays.groupby(['weeks_ago']).min()['datetime_col']"
   ]
  },
  {
   "cell_type": "code",
   "execution_count": null,
   "metadata": {},
   "outputs": [],
   "source": [
    "mean_ratios_week_starts = pd.merge(mean_ratios, week_start_dates, how='left',\n",
    "                                  left_index=True, right_index=True)\n",
    "mean_ratios_week_starts['unoccupied_to_occupied_electricity_ratio'] = mean_ratios_week_starts.electric_usage_unoccupied / mean_ratios_week_starts.electric_usage_occupied "
   ]
  },
  {
   "cell_type": "code",
   "execution_count": null,
   "metadata": {},
   "outputs": [],
   "source": [
    "mean_ratios_week_starts['week_of_text'] = 'Week of ' + mean_ratios_week_starts.datetime_col.apply(lambda x: str(x.date()))"
   ]
  },
  {
   "cell_type": "code",
   "execution_count": null,
   "metadata": {},
   "outputs": [],
   "source": [
    "max_x = mean_ratios_week_starts.datetime_col.max()+relativedelta(days=3)\n",
    "min_x = mean_ratios_week_starts.datetime_col.min()-relativedelta(days=3)\n",
    "midpoint = max_x - min_x\n",
    "line_x = midpoint / 2 + min_x\n",
    "\n",
    "bar1 = go.Bar(x=mean_ratios_week_starts.datetime_col,\n",
    "              y=mean_ratios_week_starts.unoccupied_to_occupied_electricity_ratio, \n",
    "              orientation='v',\n",
    "              text=mean_ratios_week_starts.week_of_text,\n",
    "              textposition='auto')\n",
    "\n",
    "textbox = go.Scatter(\n",
    "        x=[line_x],\n",
    "        y=[0.45],\n",
    "        text=[\"<b>Typically Achievable Ratio for Alaskan Buildings</b>\"],\n",
    "        mode=\"text\",\n",
    "        textfont=dict(color=\"DarkSeaGreen\",size=18)\n",
    ")\n",
    "\n",
    "data = [bar1, textbox]\n",
    "\n",
    "layout = dict(title='Ratio of Unoccupied to Occupied Electricity Usage for ' + current_building_name + ': Weekday Averages',\n",
    "              xaxis=dict(showticklabels=False), \n",
    "              yaxis=dict(title='Ratio of Unocccupied to Occupied Electricity Use (weekday averages)'),\n",
    "             shapes= [dict(type=\"line\",\n",
    "                           x0=min_x, y0=0.5,\n",
    "                           x1=max_x, y1=0.5,\n",
    "                           line=dict(color=\"DarkSeaGreen\",\n",
    "                                     width=4))],\n",
    "             showlegend=False)\n",
    "\n",
    "fig = go.Figure(dict(data=data, layout=layout))"
   ]
  },
  {
   "cell_type": "code",
   "execution_count": null,
   "metadata": {},
   "outputs": [],
   "source": [
    "if building_schedule == '' or schedule_object is None:\n",
    "    md_results_3 = '''#### <font color='red'>There is no occcupied schedule entered for this building.</font>'''\n",
    "    Markdown(md_results_3)\n",
    "else: \n",
    "    fig.show()\n",
    "    md_results_3 = ''"
   ]
  },
  {
   "cell_type": "code",
   "execution_count": null,
   "metadata": {},
   "outputs": [],
   "source": [
    "Markdown(md_results_3)"
   ]
  },
  {
   "cell_type": "markdown",
   "metadata": {},
   "source": [
    "<details>\n",
    "  <summary>Click for details</summary>\n",
    "  \n",
    "  ## Ratio of Unoccupied to Occuppied Electricity Usage\n",
    "  - **Description:** This graph shows the ratio of the unoccupied night-time electricity consumption to the occupied day time electricity consumption. It calculated the average weekday unoccupied electricity consumption (usually nighttime) and divided it by the average weekday occupied electricity consumption. \n",
    "  - **Potential for savings:** A ratio of one means that the building is using the same amount of electricity during unoccupied night-time periods as during the occupied day. This suggests opportunities for saving energy by turning off lights, appliances, ventilation systems, etc. at night. Higher numbers signify a higher potential savings from turning equipment off at night. \n",
    "\n",
    "</details>"
   ]
  },
  {
   "cell_type": "markdown",
   "metadata": {},
   "source": [
    "# Electricity usage compared to other offices "
   ]
  },
  {
   "cell_type": "code",
   "execution_count": null,
   "metadata": {},
   "outputs": [],
   "source": [
    "all_buildings_of_type = org_df.query(\"building_type == @current_building_type\")"
   ]
  },
  {
   "cell_type": "code",
   "execution_count": null,
   "metadata": {},
   "outputs": [],
   "source": [
    "all_buildings_of_type_list = []\n",
    "\n",
    "for elec_id in all_buildings_of_type.electric_ids.unique():\n",
    "    if elec_id != '':\n",
    "        temp_df = server.sensor_readings((elec_id, 'electric_usage'),\n",
    "                                              start_ts = datetime.datetime.now() - relativedelta(years=3),\n",
    "                                                end_ts = datetime.datetime.now(),\n",
    "                                              averaging = '1H')\n",
    "        temp_df['building_name'] = all_buildings_of_type.query(\"electric_ids == @elec_id\").iloc[0]['title']\n",
    "        temp_df['building_square_footage'] = all_buildings_of_type.query(\"electric_ids == @elec_id\").iloc[0]['floor_area']\n",
    "        all_buildings_of_type_list.append(temp_df)\n",
    "\n",
    "all_buildings_of_type_data = pd.concat(all_buildings_of_type_list)"
   ]
  },
  {
   "cell_type": "code",
   "execution_count": null,
   "metadata": {},
   "outputs": [],
   "source": [
    "# Sum the kWh (average kW over the course of an hour) by month for each building\n",
    "monthly_grouped_data = all_buildings_of_type_data.groupby(['building_name', lambda x:x.year, lambda x: x.month]).sum()\n",
    "monthly_grouped_data = monthly_grouped_data.reset_index()\n",
    "monthly_grouped_data = monthly_grouped_data.rename(columns={'level_1':'year',\n",
    "                                                           'level_2':'month',\n",
    "                                                           'electric_usage':'total_monthly_kwh'})\n",
    "monthly_grouped_data = monthly_grouped_data.drop(columns='building_square_footage', axis=1)"
   ]
  },
  {
   "cell_type": "code",
   "execution_count": null,
   "metadata": {},
   "outputs": [],
   "source": [
    "# Join the original building square footage data back to the dataset\n",
    "all_buildings_of_type_data = all_buildings_of_type_data[['building_name', 'building_square_footage']]\n",
    "all_buildings_of_type_data = all_buildings_of_type_data.drop_duplicates()\n",
    "all_buildings_of_type_data = pd.merge(monthly_grouped_data, all_buildings_of_type_data, how='left',\n",
    "                                     left_on='building_name', right_on='building_name')"
   ]
  },
  {
   "cell_type": "code",
   "execution_count": null,
   "metadata": {},
   "outputs": [],
   "source": [
    "# Normalize by square footage. Data starts as kwh per month; result is in kwh / square foot / month\n",
    "all_buildings_of_type_data['monthly_electricity_eui'] = all_buildings_of_type_data.total_monthly_kwh / all_buildings_of_type_data.building_square_footage"
   ]
  },
  {
   "cell_type": "code",
   "execution_count": null,
   "metadata": {},
   "outputs": [],
   "source": [
    "all_buildings_of_type_data['datetime'] = pd.to_datetime(dict(year=all_buildings_of_type_data.year, month=all_buildings_of_type_data.month, day=1))"
   ]
  },
  {
   "cell_type": "code",
   "execution_count": null,
   "metadata": {},
   "outputs": [],
   "source": [
    "diverging_hues = ['#d73027','#fc8d59',\n",
    "                  '#fee090','#ffffbf',\n",
    "                  '#e0f3f8','#91bfdb',\n",
    "                  '#4575b4']"
   ]
  },
  {
   "cell_type": "code",
   "execution_count": null,
   "metadata": {},
   "outputs": [],
   "source": [
    "building_type_dict = {'OFFIC':'Office', \n",
    "                      'SCH':'School', \n",
    "                      'M-RES':'Multifamily Residential', \n",
    "                      'OTHER':'Miscellaneous Type'}"
   ]
  },
  {
   "cell_type": "code",
   "execution_count": null,
   "metadata": {},
   "outputs": [],
   "source": [
    "current_building_type = building_type_dict[current_building_type]"
   ]
  },
  {
   "cell_type": "code",
   "execution_count": null,
   "metadata": {},
   "outputs": [],
   "source": [
    "current_building_df = all_buildings_of_type_data.query(\"building_name == @current_building_name\")\n",
    "all_buildings_avg_df = all_buildings_of_type_data.query(\"building_name != @current_building_name\")\n",
    "all_buildings_avg_df = all_buildings_avg_df.groupby(['year', 'month']).mean()\n",
    "all_buildings_avg_df = all_buildings_avg_df.reset_index()\n",
    "all_buildings_avg_df['datetime'] = pd.to_datetime(dict(year=all_buildings_avg_df.year, month=all_buildings_avg_df.month, day=1))"
   ]
  },
  {
   "cell_type": "code",
   "execution_count": null,
   "metadata": {},
   "outputs": [],
   "source": [
    "all_building_avg_monthly_electric_eui = go.Scatter(x=all_buildings_avg_df.datetime,\n",
    "                                                   y=all_buildings_avg_df.monthly_electricity_eui,\n",
    "                         name=\"Average of Alaska \" + current_building_type + \" buildings\")\n",
    "\n",
    "current_building = go.Scatter(x=current_building_df.datetime,\n",
    "                             y=current_building_df.monthly_electricity_eui,\n",
    "                             name=current_building_name)\n",
    "\n",
    "layout = dict(title= 'Monthly Electricity EUI comparison: ' + current_building_name + ' compared to other ' + current_building_type + ' buildings',\n",
    "              xaxis=dict(title='Date'),\n",
    "              yaxis=dict(title='Electricity energy use intensity (kWh / square foot / month)')\n",
    "             )\n",
    "\n",
    "fig = go.Figure(dict(data=[all_building_avg_monthly_electric_eui, current_building], layout=layout))"
   ]
  },
  {
   "cell_type": "code",
   "execution_count": null,
   "metadata": {},
   "outputs": [],
   "source": [
    "if current_building_df.building_square_footage.isna().all():\n",
    "    markdown_error = '''#### <font color='red'>This building has no square footage data, and so cannot be compared to other buildings.</font>'''\n",
    "else: \n",
    "    fig.show()\n",
    "    markdown_error = ''"
   ]
  },
  {
   "cell_type": "code",
   "execution_count": null,
   "metadata": {},
   "outputs": [],
   "source": [
    "Markdown(markdown_error)"
   ]
  }
 ],
 "metadata": {
  "celltoolbar": "Tags",
  "kernelspec": {
   "display_name": "Python 3",
   "language": "python",
   "name": "python3"
  },
  "language_info": {
   "codemirror_mode": {
    "name": "ipython",
    "version": 3
   },
   "file_extension": ".py",
   "mimetype": "text/x-python",
   "name": "python",
   "nbconvert_exporter": "python",
   "pygments_lexer": "ipython3",
   "version": "3.8.5"
  }
 },
 "nbformat": 4,
 "nbformat_minor": 2
}
